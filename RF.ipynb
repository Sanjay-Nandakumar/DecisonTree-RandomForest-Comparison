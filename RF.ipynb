{
  "nbformat": 4,
  "nbformat_minor": 0,
  "metadata": {
    "colab": {
      "provenance": []
    },
    "kernelspec": {
      "name": "python3",
      "display_name": "Python 3"
    },
    "language_info": {
      "name": "python"
    }
  },
  "cells": [
    {
      "cell_type": "markdown",
      "source": [
        "# **Pre-pruning**"
      ],
      "metadata": {
        "id": "ot0KQ0AxAWcR"
      }
    },
    {
      "cell_type": "code",
      "source": [
        "from sklearn.tree import DecisionTreeClassifier\n",
        "from sklearn.model_selection import train_test_split\n",
        "from sklearn.model_selection import GridSearchCV\n",
        "from sklearn.datasets import make_classification\n",
        "from sklearn.metrics import roc_auc_score\n",
        "import matplotlib.pyplot as plt\n",
        "\n",
        "\n",
        "param_grid = {\n",
        "    \"max_depth\": [3,5,10,15,20,None],\n",
        "    \"min_samples_split\": [2,5,7,10],\n",
        "    \"min_samples_leaf\": [1,2,5]\n",
        "}\n",
        "\n",
        "\n",
        "# this will generate a random multi-label dataset\n",
        "X, y = make_classification(\n",
        "    n_samples=1000, # 1000 observations \n",
        "    n_features=5, # 5 total features\n",
        "    n_informative=3, # 3 'useful' features\n",
        "    n_classes=2, # binary target/label \n",
        "    random_state=999 # if you want the same results as mine\n",
        ")\n",
        "\n",
        "X_train, X_test, y_train, y_test = train_test_split(X, y, test_size=0.3, random_state=42)\n",
        "                  \n",
        "clf = DecisionTreeClassifier(random_state=42)\n",
        "grid_cv = GridSearchCV(clf, param_grid, scoring=\"roc_auc\", n_jobs=-1, cv=3).fit(X_train, y_train)\n",
        "\n",
        "print(\"Param for GS\", grid_cv.best_params_)\n",
        "print(\"CV score for GS\", grid_cv.best_score_)\n",
        "print(\"Train AUC ROC Score for GS: \", roc_auc_score(y_train, grid_cv.predict(X_train)))\n",
        "print(\"Test AUC ROC Score for GS: \", roc_auc_score(y_test, grid_cv.predict(X_test)))"
      ],
      "metadata": {
        "colab": {
          "base_uri": "https://localhost:8080/"
        },
        "id": "d-NOA5zj6ecy",
        "outputId": "ace0aed4-c54c-4969-ad26-0fc7b1d76214"
      },
      "execution_count": 1,
      "outputs": [
        {
          "output_type": "stream",
          "name": "stdout",
          "text": [
            "Param for GS {'max_depth': 5, 'min_samples_leaf': 2, 'min_samples_split': 5}\n",
            "CV score for GS 0.9027693445396672\n",
            "Train AUC ROC Score for GS:  0.8800156746209926\n",
            "Test AUC ROC Score for GS:  0.779990221787635\n"
          ]
        }
      ]
    },
    {
      "cell_type": "markdown",
      "source": [
        "# **Post-Pruning**"
      ],
      "metadata": {
        "id": "qTqDdyyxAJ4t"
      }
    },
    {
      "cell_type": "code",
      "source": [
        "# Allow a decision tree to grow to its full depth\n",
        "clf = DecisionTreeClassifier(random_state=42)\n",
        "clf.fit(X_train, y_train)\n",
        "\n",
        "# compute ccp_alpha values\n",
        "path = clf.cost_complexity_pruning_path(X_train, y_train)\n",
        "ccp_alphas, impurities = path.ccp_alphas, path.impurities\n",
        "print(ccp_alphas)\n",
        "\n",
        "# train DT classifier for each ccp_alpha value\n",
        "clfs = []\n",
        "for ccp_alpha in ccp_alphas:\n",
        "    clf = DecisionTreeClassifier(random_state=42, ccp_alpha=ccp_alpha)\n",
        "    clf.fit(X_train, y_train)\n",
        "    clfs.append(clf)\n",
        "\n",
        "# Plot train and test score for each of the above trained model    \n",
        "clfs = clfs[:-1]\n",
        "ccp_alphas = ccp_alphas[:-1]\n",
        "\n",
        "train_scores = [roc_auc_score(y_train, clf.predict(X_train)) for clf in clfs]\n",
        "test_scores = [roc_auc_score(y_test, clf.predict(X_test)) for clf in clfs]\n",
        "\n",
        "fig, ax = plt.subplots()\n",
        "ax.set_xlabel(\"alpha\")\n",
        "ax.set_ylabel(\"accuracy\")\n",
        "ax.set_title(\"AUC-ROC score vs alpha\")\n",
        "ax.plot(ccp_alphas, train_scores, marker='o', label=\"train\")\n",
        "ax.plot(ccp_alphas, test_scores, marker='o', label=\"test\")\n",
        "ax.legend()\n",
        "plt.show()"
      ],
      "metadata": {
        "colab": {
          "base_uri": "https://localhost:8080/",
          "height": 422
        },
        "id": "lAyunKk99iGM",
        "outputId": "c078d470-09ac-4a46-de4c-42801614f358"
      },
      "execution_count": 2,
      "outputs": [
        {
          "output_type": "stream",
          "name": "stdout",
          "text": [
            "[0.         0.00125    0.00126984 0.00130952 0.00134921 0.00135714\n",
            " 0.00137363 0.00141383 0.00154784 0.00181425 0.00190476 0.00190476\n",
            " 0.00214286 0.00214286 0.00221612 0.00228571 0.00234416 0.00246281\n",
            " 0.0025     0.00264039 0.00266667 0.00277922 0.00331777 0.00333321\n",
            " 0.00380952 0.00382653 0.00426444 0.00428571 0.00448494 0.00463235\n",
            " 0.00534562 0.00543529 0.00783673 0.00825188 0.01070599 0.01999332\n",
            " 0.03166737 0.04028684 0.04831998 0.06022419]\n"
          ]
        },
        {
          "output_type": "display_data",
          "data": {
            "text/plain": [
              "<Figure size 432x288 with 1 Axes>"
            ],
            "image/png": "[encoded data removed]"
          },
          "metadata": {
            "needs_background": "light"
          }
        }
      ]
    },
    {
      "cell_type": "markdown",
      "source": [
        "# **Random forest**"
      ],
      "metadata": {
        "id": "dQgXFqsEB33B"
      }
    },
    {
      "cell_type": "code",
      "source": [
        "from sklearn.ensemble import RandomForestClassifier  \n",
        "from sklearn.model_selection import train_test_split\n",
        "from sklearn.model_selection import GridSearchCV\n",
        "from sklearn.datasets import make_classification\n",
        "from sklearn.metrics import roc_auc_score\n",
        "import matplotlib.pyplot as plt\n",
        "\n",
        "\n",
        "param_grid = {\n",
        "    \"max_depth\": [3,5,10,15,20,None],\n",
        "    \"min_samples_split\": [2,5,7,10],\n",
        "    \"min_samples_leaf\": [1,2,5]\n",
        "}\n",
        "\n",
        "\n",
        "# this will generate a random multi-label dataset\n",
        "X, y = make_classification(\n",
        "    n_samples=1000, # 1000 observations \n",
        "    n_features=5, # 5 total features\n",
        "    n_informative=3, # 3 'useful' features\n",
        "    n_classes=2, # binary target/label \n",
        "    random_state=999 # if you want the same results as mine\n",
        ")\n",
        "\n",
        "X_train, X_test, y_train, y_test = train_test_split(X, y, test_size=0.3, random_state=42)\n",
        "                  \n",
        "\n",
        "\n",
        "clf = RandomForestClassifier(bootstrap=True, class_weight=None, criterion='entropy',\n",
        "                       max_depth=None, max_features='auto', max_leaf_nodes=None,\n",
        "                       min_impurity_decrease=0.0,\n",
        "                       min_samples_leaf=1, min_samples_split=2,\n",
        "                       min_weight_fraction_leaf=0.0, n_estimators=10,\n",
        "                       n_jobs=None, oob_score=False, random_state=42,\n",
        "                       verbose=0, warm_start=False)\n",
        "\n",
        "\n",
        "grid_cv = GridSearchCV(clf, param_grid, scoring=\"roc_auc\", n_jobs=-1, cv=3).fit(X_train, y_train)\n",
        "\n",
        "\n",
        "\n",
        "print(\"Param for GS\", grid_cv.best_params_)\n",
        "print(\"CV score for GS\", grid_cv.best_score_)\n",
        "print(\"Train AUC ROC Score for GS: \", roc_auc_score(y_train, grid_cv.predict(X_train)))\n",
        "print(\"Test AUC ROC Score for GS: \", roc_auc_score(y_test, grid_cv.predict(X_test)))\n"
      ],
      "metadata": {
        "colab": {
          "base_uri": "https://localhost:8080/"
        },
        "id": "E1dbpfFrAUo9",
        "outputId": "75089406-2b57-4e0b-c5e1-06e3bb94fe5d"
      },
      "execution_count": 3,
      "outputs": [
        {
          "output_type": "stream",
          "name": "stdout",
          "text": [
            "Param for GS {'max_depth': 10, 'min_samples_leaf': 2, 'min_samples_split': 2}\n",
            "CV score for GS 0.928015131938594\n",
            "Train AUC ROC Score for GS:  0.9541354058665535\n",
            "Test AUC ROC Score for GS:  0.8264811769411975\n"
          ]
        },
        {
          "output_type": "stream",
          "name": "stderr",
          "text": [
            "/usr/local/lib/python3.9/dist-packages/sklearn/ensemble/_forest.py:424: FutureWarning: `max_features='auto'` has been deprecated in 1.1 and will be removed in 1.3. To keep the past behaviour, explicitly set `max_features='sqrt'` or remove this parameter as it is also the default value for RandomForestClassifiers and ExtraTreesClassifiers.\n",
            "  warn(\n"
          ]
        }
      ]
    },
    {
      "cell_type": "code",
      "source": [
        "import matplotlib.pyplot as plt\n",
        "from sklearn.metrics import confusion_matrix, ConfusionMatrixDisplay\n",
        "y_pred= grid_cv.predict(X_test)\n",
        "cm = confusion_matrix(y_test, y_pred)\n",
        "display = ConfusionMatrixDisplay(confusion_matrix=cm)\n",
        "fig, ax = plt.subplots(figsize=(5,5))\n",
        "display.plot(ax=ax, xticks_rotation='vertical')\n",
        "plt.show()\n",
        "\n",
        "\"\"\"\n",
        "True Negative (Top-Left Quadrant)\n",
        "False Positive (Top-Right Quadrant)\n",
        "False Negative (Bottom-Left Quadrant)\n",
        "True Positive (Bottom-Right Quadrant)\n",
        "\"\"\"\n",
        "from sklearn import metrics\n",
        "Accuracy = metrics.accuracy_score(y_test, y_pred)\n",
        "Precision = metrics.precision_score(y_test, y_pred)\n",
        "Sensitivity_recall = metrics.recall_score(y_test, y_pred)\n",
        "Specificity = metrics.recall_score(y_test, y_pred, pos_label=0)\n",
        "F1_score = metrics.f1_score(y_test, y_pred)\n",
        "print(\"Accuracy \",Accuracy)\n",
        "print(\"Precision \",Precision)\n",
        "print(\"Sensitivity_recall \",Sensitivity_recall)\n",
        "print(\"Specificity \",Specificity)\n",
        "print(\"F1_score \",F1_score)"
      ],
      "metadata": {
        "colab": {
          "base_uri": "https://localhost:8080/",
          "height": 396
        },
        "id": "mPUumC9KC75h",
        "outputId": "126e9a39-30ce-4959-fcee-391f10532c52"
      },
      "execution_count": 4,
      "outputs": [
        {
          "output_type": "display_data",
          "data": {
            "text/plain": [
              "<Figure size 360x360 with 2 Axes>"
            ],
            "image/png": "[encoded data removed]"
          },
          "metadata": {
            "needs_background": "light"
          }
        },
        {
          "output_type": "stream",
          "name": "stdout",
          "text": [
            "Accuracy  0.8266666666666667\n",
            "Precision  0.8439716312056738\n",
            "Sensitivity_recall  0.7986577181208053\n",
            "Specificity  0.8543046357615894\n",
            "F1_score  0.8206896551724137\n"
          ]
        }
      ]
    },
    {
      "cell_type": "markdown",
      "source": [
        "# **Decison Tree**"
      ],
      "metadata": {
        "id": "14Y0PElwHMys"
      }
    },
    {
      "cell_type": "code",
      "source": [
        "from sklearn.ensemble import RandomForestClassifier  \n",
        "from sklearn.model_selection import train_test_split\n",
        "from sklearn.model_selection import GridSearchCV\n",
        "from sklearn.datasets import make_classification\n",
        "from sklearn.metrics import roc_auc_score\n",
        "import matplotlib.pyplot as plt\n",
        "\n",
        "\n",
        "param_grid = {\n",
        "    \"max_depth\": [3,5,10,15,20,None],\n",
        "    \"min_samples_split\": [2,5,7,10],\n",
        "    \"min_samples_leaf\": [1,2,5]\n",
        "}\n",
        "\n",
        "\n",
        "# this will generate a random multi-label dataset\n",
        "X, y = make_classification(\n",
        "    n_samples=1000, # 1000 observations \n",
        "    n_features=5, # 5 total features\n",
        "    n_informative=3, # 3 'useful' features\n",
        "    n_classes=2, # binary target/label \n",
        "    random_state=999 # if you want the same results as mine\n",
        ")\n",
        "\n",
        "X_train, X_test, y_train, y_test = train_test_split(X, y, test_size=0.3, random_state=42)\n",
        "                  \n",
        "\n",
        "\n",
        "clf = DecisionTreeClassifier(random_state=42)\n",
        "grid_cv = GridSearchCV(clf, param_grid, scoring=\"roc_auc\", n_jobs=-1, cv=3).fit(X_train, y_train)\n",
        "\n",
        "\n",
        "\n",
        "print(\"Param for GS\", grid_cv.best_params_)\n",
        "print(\"CV score for GS\", grid_cv.best_score_)\n",
        "print(\"Train AUC ROC Score for GS: \", roc_auc_score(y_train, grid_cv.predict(X_train)))\n",
        "print(\"Test AUC ROC Score for GS: \", roc_auc_score(y_test, grid_cv.predict(X_test)))\n"
      ],
      "metadata": {
        "colab": {
          "base_uri": "https://localhost:8080/"
        },
        "id": "Q4vH-1RgGbQ-",
        "outputId": "4d737a95-0709-44bf-fa27-958924c00c09"
      },
      "execution_count": 5,
      "outputs": [
        {
          "output_type": "stream",
          "name": "stdout",
          "text": [
            "Param for GS {'max_depth': 5, 'min_samples_leaf': 2, 'min_samples_split': 5}\n",
            "CV score for GS 0.9027693445396672\n",
            "Train AUC ROC Score for GS:  0.8800156746209926\n",
            "Test AUC ROC Score for GS:  0.779990221787635\n"
          ]
        }
      ]
    },
    {
      "cell_type": "code",
      "source": [
        "import matplotlib.pyplot as plt\n",
        "from sklearn.metrics import confusion_matrix, ConfusionMatrixDisplay\n",
        "y_pred= grid_cv.predict(X_test)\n",
        "cm = confusion_matrix(y_test, y_pred)\n",
        "display = ConfusionMatrixDisplay(confusion_matrix=cm)\n",
        "fig, ax = plt.subplots(figsize=(5,5))\n",
        "display.plot(ax=ax, xticks_rotation='vertical')\n",
        "plt.show()\n",
        "\n",
        "\"\"\"\n",
        "True Negative (Top-Left Quadrant)\n",
        "False Positive (Top-Right Quadrant)\n",
        "False Negative (Bottom-Left Quadrant)\n",
        "True Positive (Bottom-Right Quadrant)\n",
        "\"\"\"\n",
        "from sklearn import metrics\n",
        "Accuracy = metrics.accuracy_score(y_test, y_pred)\n",
        "Precision = metrics.precision_score(y_test, y_pred)\n",
        "Sensitivity_recall = metrics.recall_score(y_test, y_pred)\n",
        "Specificity = metrics.recall_score(y_test, y_pred, pos_label=0)\n",
        "F1_score = metrics.f1_score(y_test, y_pred)\n",
        "print(\"Accuracy \",Accuracy)\n",
        "print(\"Precision \",Precision)\n",
        "print(\"Sensitivity_recall \",Sensitivity_recall)\n",
        "print(\"Specificity \",Specificity)\n",
        "print(\"F1_score \",F1_score)"
      ],
      "metadata": {
        "colab": {
          "base_uri": "https://localhost:8080/",
          "height": 396
        },
        "id": "CIXssf3qHfvk",
        "outputId": "bb728ed7-5393-44d6-9076-1887f83f01d4"
      },
      "execution_count": 6,
      "outputs": [
        {
          "output_type": "display_data",
          "data": {
            "text/plain": [
              "<Figure size 360x360 with 2 Axes>"
            ],
            "image/png": "[encoded data removed]"
          },
          "metadata": {
            "needs_background": "light"
          }
        },
        {
          "output_type": "stream",
          "name": "stdout",
          "text": [
            "Accuracy  0.78\n",
            "Precision  0.7785234899328859\n",
            "Sensitivity_recall  0.7785234899328859\n",
            "Specificity  0.7814569536423841\n",
            "F1_score  0.7785234899328859\n"
          ]
        }
      ]
    }
  ]
}